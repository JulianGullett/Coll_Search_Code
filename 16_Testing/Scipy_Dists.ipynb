{
 "cells": [
  {
   "cell_type": "code",
   "execution_count": 1,
   "id": "f61494fb",
   "metadata": {},
   "outputs": [],
   "source": [
    "import scipy as sp\n",
    "import numpy as np"
   ]
  },
  {
   "cell_type": "code",
   "execution_count": 38,
   "id": "e331888c",
   "metadata": {},
   "outputs": [],
   "source": [
    "def vectorized_dist(curr_loc, neigh_locs, landscape_index):\n",
    "    curr_dists = sp.spatial.distance.cdist(landscape_index, curr_loc, 'cityblock')\n",
    "    neigh_dists = sp.spatial.distance.cdist(landscape_index, neigh_locs, 'cityblock') + 1\n",
    "    all_dists = np.concatenate([curr_dists, neigh_dists], axis=1)\n",
    "    return all_dists.min(axis=1).tolist()"
   ]
  },
  {
   "cell_type": "code",
   "execution_count": 36,
   "id": "78fa50b8",
   "metadata": {},
   "outputs": [],
   "source": [
    "landscape_index = np.array([[0,0,0], \n",
    "                           [0,0,1], [0,1,0], [1,0,0],\n",
    "                           [1,1,0], [1,0,1], [0,1,1],\n",
    "                           [1,1,1]])\n",
    "curr_loc = np.array([[1,0,1]])\n",
    "neigh_locs = np.array([[1,1,0], [1,0,0]])"
   ]
  },
  {
   "cell_type": "code",
   "execution_count": 39,
   "id": "e704bd07",
   "metadata": {},
   "outputs": [
    {
     "data": {
      "text/plain": [
       "[2.0, 1.0, 2.0, 1.0, 1.0, 0.0, 2.0, 1.0]"
      ]
     },
     "execution_count": 39,
     "metadata": {},
     "output_type": "execute_result"
    }
   ],
   "source": [
    "vectorized_dist(curr_loc, neigh_locs, landscape_index)"
   ]
  }
 ],
 "metadata": {
  "kernelspec": {
   "display_name": "Python 3 (ipykernel)",
   "language": "python",
   "name": "python3"
  },
  "language_info": {
   "codemirror_mode": {
    "name": "ipython",
    "version": 3
   },
   "file_extension": ".py",
   "mimetype": "text/x-python",
   "name": "python",
   "nbconvert_exporter": "python",
   "pygments_lexer": "ipython3",
   "version": "3.11.5"
  }
 },
 "nbformat": 4,
 "nbformat_minor": 5
}
