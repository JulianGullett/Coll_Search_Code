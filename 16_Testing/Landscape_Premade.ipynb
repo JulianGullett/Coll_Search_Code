{
 "cells": [
  {
   "cell_type": "code",
   "execution_count": 17,
   "id": "56a83f1a",
   "metadata": {},
   "outputs": [],
   "source": [
    "import nklsgen\n",
    "import pickle\n",
    "import time"
   ]
  },
  {
   "cell_type": "code",
   "execution_count": 19,
   "id": "49fe7cff",
   "metadata": {},
   "outputs": [
    {
     "name": "stdout",
     "output_type": "stream",
     "text": [
      "Time elapsed: 143.0!\n"
     ]
    }
   ],
   "source": [
    "start = time.time()\n",
    "N, K, number = 17, 5, 10\n",
    "landscapes = nklsgen.generate_landscapes(N, K, number)\n",
    "end = time.time()\n",
    "print(f'Time elapsed: {round(end-start,0)}!')"
   ]
  },
  {
   "cell_type": "code",
   "execution_count": 20,
   "id": "849bbce7",
   "metadata": {},
   "outputs": [],
   "source": [
    "with open('DavidPaperLS_17_5_10.pickle', 'wb') as f:\n",
    "    pickle.dump(landscapes, f)"
   ]
  },
  {
   "cell_type": "code",
   "execution_count": 21,
   "id": "35411e72",
   "metadata": {},
   "outputs": [],
   "source": [
    "with open('DavidPaperLS_17_5_10.pickle', 'rb') as f:\n",
    "    landscapes_ = pickle.load(f)"
   ]
  }
 ],
 "metadata": {
  "kernelspec": {
   "display_name": "Python 3 (ipykernel)",
   "language": "python",
   "name": "python3"
  },
  "language_info": {
   "codemirror_mode": {
    "name": "ipython",
    "version": 3
   },
   "file_extension": ".py",
   "mimetype": "text/x-python",
   "name": "python",
   "nbconvert_exporter": "python",
   "pygments_lexer": "ipython3",
   "version": "3.11.5"
  }
 },
 "nbformat": 4,
 "nbformat_minor": 5
}
