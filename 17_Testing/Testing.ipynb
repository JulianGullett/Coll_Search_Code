{
 "cells": [
  {
   "cell_type": "code",
   "execution_count": 1,
   "id": "3be82d2a",
   "metadata": {},
   "outputs": [],
   "source": [
    "import warnings\n",
    "import sys\n",
    "import multiprocessing\n",
    "import networkx as nx\n",
    "from sklearn.model_selection import ParameterGrid\n",
    "from matplotlib import pyplot as plt\n",
    "import time\n",
    "import os\n",
    "\n",
    "from ABM_Func import *"
   ]
  },
  {
   "cell_type": "code",
   "execution_count": 2,
   "id": "ccbfdc87",
   "metadata": {},
   "outputs": [],
   "source": [
    "from input_parameters import *"
   ]
  },
  {
   "cell_type": "code",
   "execution_count": 3,
   "id": "c353758c",
   "metadata": {},
   "outputs": [],
   "source": [
    "# # New Parallelization Package\n",
    "# from mpi4py import MPI\n",
    "# #Retrieves MPI environment\n",
    "# comm = MPI.COMM_WORLD\n",
    "# #set variable \"size\" as the total number of MPI processes\n",
    "# size = comm.Get_size()\n",
    "# #print(size)\n",
    "# #set variable \"rank\" as the specific MPI rank on each MPI process\n",
    "# rank = comm.Get_rank()"
   ]
  },
  {
   "cell_type": "code",
   "execution_count": 4,
   "id": "1cb01fce",
   "metadata": {},
   "outputs": [],
   "source": [
    "# Exception graph construction for single agents\n",
    "if num_agents == 1:\n",
    "\n",
    "    graphs = [nx.Graph() for _ in range(num_graphs)]\n",
    "    for graph in graphs:\n",
    "        graph.add_node(1)\n",
    "\n",
    "    graph_labels = dict(zip(graphs, range(len(graphs)))) \n",
    "\n",
    "# Create graph/graphs for multiple agents\n",
    "elif num_agents > 1:\n",
    "\n",
    "    graphs = []     \n",
    "    if len(edges) != 1:\n",
    "        for edge in edges:\n",
    "            graphs.append([nx.gnm_random_graph(num_agents, edge) for _ in range(num_graphs)])\n",
    "        graphs = [graph[i] for graph in graphs for i in range(len(graph))] \n",
    "        \n",
    "    graph_labels = dict(zip(graphs, range(len(graphs)))) "
   ]
  },
  {
   "cell_type": "code",
   "execution_count": 5,
   "id": "47ed33ee",
   "metadata": {},
   "outputs": [],
   "source": [
    "# Create Parameter Grid\n",
    "parameter_grid = {'landscape': landscapes, \n",
    "                'num_agents': [num_agents], \n",
    "                'num_searches': [num_searches], \n",
    "                'graph': graphs, \n",
    "                'memory': memory,\n",
    "                'distance_costs': distance_costs,\n",
    "                'myopia': [myopia],\n",
    "                'sync': [True]}\n",
    "\n",
    "# Create Parameter Space\n",
    "parameter_combos = list(ParameterGrid(parameter_grid))\n",
    "parameter_combos = [a.copy() for a in parameter_combos for _ in range(num_sims)]\n",
    "\n",
    "# Labels Param_Combos with IDs for Identification\n",
    "for i, pcombo in enumerate(parameter_combos):\n",
    "    # Add id key\n",
    "    pcombo.update({'id': i})\n",
    "    # Add graph_label key\n",
    "    pcombo.update({'graph_label': graph_labels[pcombo['graph']]})\n",
    "\n",
    "#Shuffle so batches aren't unbalanced\n",
    "random.shuffle(parameter_combos)"
   ]
  },
  {
   "cell_type": "code",
   "execution_count": 6,
   "id": "f5e7e20c",
   "metadata": {},
   "outputs": [],
   "source": [
    "size = 10"
   ]
  },
  {
   "cell_type": "code",
   "execution_count": 7,
   "id": "ba27a5e1",
   "metadata": {},
   "outputs": [],
   "source": [
    "## Split Parameter Space for Distribution\n",
    "split_seeds = np.array_split(parameter_combos, size, axis=0)"
   ]
  },
  {
   "cell_type": "code",
   "execution_count": 8,
   "id": "dd817abd",
   "metadata": {},
   "outputs": [],
   "source": [
    "p_combo = split_seeds[0][0]"
   ]
  },
  {
   "cell_type": "code",
   "execution_count": 36,
   "id": "98a6078a",
   "metadata": {},
   "outputs": [
    {
     "name": "stdout",
     "output_type": "stream",
     "text": [
      "Population initialized!\n",
      "Sim Complete!\n"
     ]
    }
   ],
   "source": [
    "sim_hist = run_model(p_combo)"
   ]
  },
  {
   "cell_type": "code",
   "execution_count": 46,
   "id": "4bf3d83d",
   "metadata": {},
   "outputs": [],
   "source": [
    "sim_hist.landscape.tofile(f'{sim_hist.id_}_landscape.csv',sep=',')"
   ]
  },
  {
   "cell_type": "code",
   "execution_count": 45,
   "id": "294aab4f",
   "metadata": {},
   "outputs": [
    {
     "data": {
      "text/plain": [
       "0"
      ]
     },
     "execution_count": 45,
     "metadata": {},
     "output_type": "execute_result"
    }
   ],
   "source": [
    "sim_hist.id_"
   ]
  },
  {
   "cell_type": "code",
   "execution_count": 40,
   "id": "9a5b94ad",
   "metadata": {},
   "outputs": [
    {
     "data": {
      "text/plain": [
       "array([[0.51178171, 0.57399155, 0.65174406, ..., 0.40474852, 0.39161725,\n",
       "        0.43528239],\n",
       "       [0.48344098, 0.54215268, 0.62063948, ..., 0.45052032, 0.4487058 ,\n",
       "        0.49098279],\n",
       "       [0.53519413, 0.56768498, 0.60528794, ..., 0.4950774 , 0.51058813,\n",
       "        0.54146068],\n",
       "       ...,\n",
       "       [0.44970332, 0.46146217, 0.51315424, ..., 0.58383594, 0.58624565,\n",
       "        0.59152567],\n",
       "       [0.47373236, 0.48893879, 0.52219909, ..., 0.62713574, 0.63864553,\n",
       "        0.61578942],\n",
       "       [0.50788396, 0.51044145, 0.49120802, ..., 0.62710583, 0.65764109,\n",
       "        0.62076374]])"
      ]
     },
     "execution_count": 40,
     "metadata": {},
     "output_type": "execute_result"
    }
   ],
   "source": [
    "sim_hist.landscape"
   ]
  }
 ],
 "metadata": {
  "kernelspec": {
   "display_name": "Python 3 (ipykernel)",
   "language": "python",
   "name": "python3"
  },
  "language_info": {
   "codemirror_mode": {
    "name": "ipython",
    "version": 3
   },
   "file_extension": ".py",
   "mimetype": "text/x-python",
   "name": "python",
   "nbconvert_exporter": "python",
   "pygments_lexer": "ipython3",
   "version": "3.11.5"
  }
 },
 "nbformat": 4,
 "nbformat_minor": 5
}
