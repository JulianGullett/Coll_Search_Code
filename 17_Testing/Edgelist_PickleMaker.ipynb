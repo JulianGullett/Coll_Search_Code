{
 "cells": [
  {
   "cell_type": "code",
   "execution_count": 1,
   "id": "21f7cd4a",
   "metadata": {},
   "outputs": [],
   "source": [
    "import pandas as pd\n",
    "import networkx as nx\n",
    "import pickle"
   ]
  },
  {
   "cell_type": "code",
   "execution_count": 2,
   "id": "1970da96",
   "metadata": {},
   "outputs": [],
   "source": [
    "df = pd.read_csv('DesignedGraphs.csv')\n",
    "df.drop(labels=['Unnamed: 0'], axis=1, inplace=True)\n",
    "\n",
    "graphs = []\n",
    "for i in range(df.shape[1]):\n",
    "    graphs.append(nx.from_edgelist(list(eval(df.iloc[0,i]))))"
   ]
  },
  {
   "cell_type": "code",
   "execution_count": 3,
   "id": "6d5517e5",
   "metadata": {},
   "outputs": [],
   "source": [
    "def extract_edgelist(G):\n",
    "    nodes = sorted(list(G.nodes))\n",
    "    edges = []\n",
    "    \n",
    "    for node in nodes:\n",
    "        edges.append(sorted(list(G[node])))\n",
    "        \n",
    "    return dict(zip(nodes, edges))"
   ]
  },
  {
   "cell_type": "code",
   "execution_count": 4,
   "id": "939e494d",
   "metadata": {},
   "outputs": [],
   "source": [
    "edgelists = []\n",
    "for G in graphs:\n",
    "    edgelists.append(extract_edgelist(G))"
   ]
  },
  {
   "cell_type": "code",
   "execution_count": 22,
   "id": "41c6bcb6",
   "metadata": {},
   "outputs": [],
   "source": [
    "davidPaper_nets = [edgelists[10], edgelists[15]]\n",
    "with open('DavidPaperNets.pickle', 'wb') as f:\n",
    "    pickle.dump(davidPaper_nets, f)"
   ]
  },
  {
   "cell_type": "code",
   "execution_count": 23,
   "id": "66227e9d",
   "metadata": {},
   "outputs": [],
   "source": [
    "with open('DavidPaperNets.pickle', 'rb') as f:\n",
    "    edgelists = pickle.load(f)"
   ]
  },
  {
   "cell_type": "code",
   "execution_count": 15,
   "id": "d0dcfa5c",
   "metadata": {},
   "outputs": [],
   "source": [
    "with open('DesignedGraphs.pickle', 'wb') as f:\n",
    "    pickle.dump(edgelists, f)"
   ]
  },
  {
   "cell_type": "code",
   "execution_count": 16,
   "id": "4c92c1c1",
   "metadata": {},
   "outputs": [],
   "source": [
    "with open('DesignedGraphs.pickle', 'rb') as f:\n",
    "    edgelists = pickle.load(f)"
   ]
  },
  {
   "cell_type": "code",
   "execution_count": 26,
   "id": "3e44b500",
   "metadata": {},
   "outputs": [],
   "source": [
    "class Graph():\n",
    "    def __init__(self, edgelist, id_):\n",
    "        self.id = id_\n",
    "        self.edgelist = edgelist"
   ]
  },
  {
   "cell_type": "code",
   "execution_count": 29,
   "id": "a41923d1",
   "metadata": {},
   "outputs": [],
   "source": [
    "graphs = []\n",
    "for i, edgelist in enumerate(edgelists):\n",
    "    graphs.append(Graph(edgelist, i))"
   ]
  }
 ],
 "metadata": {
  "kernelspec": {
   "display_name": "Python 3 (ipykernel)",
   "language": "python",
   "name": "python3"
  },
  "language_info": {
   "codemirror_mode": {
    "name": "ipython",
    "version": 3
   },
   "file_extension": ".py",
   "mimetype": "text/x-python",
   "name": "python",
   "nbconvert_exporter": "python",
   "pygments_lexer": "ipython3",
   "version": "3.11.5"
  }
 },
 "nbformat": 4,
 "nbformat_minor": 5
}
