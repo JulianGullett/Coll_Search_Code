{
 "cells": [
  {
   "cell_type": "code",
   "execution_count": 1,
   "id": "7a580f76",
   "metadata": {},
   "outputs": [],
   "source": [
    "import nklsgen"
   ]
  },
  {
   "cell_type": "code",
   "execution_count": 3,
   "id": "bee26b8d",
   "metadata": {},
   "outputs": [],
   "source": [
    "N = 5\n",
    "K = 1\n",
    "num_of_ls = 1\n",
    "landscapes = nklsgen.generate_landscapes(N, K, num_of_ls)"
   ]
  }
 ],
 "metadata": {
  "kernelspec": {
   "display_name": "Python 3 (ipykernel)",
   "language": "python",
   "name": "python3"
  },
  "language_info": {
   "codemirror_mode": {
    "name": "ipython",
    "version": 3
   },
   "file_extension": ".py",
   "mimetype": "text/x-python",
   "name": "python",
   "nbconvert_exporter": "python",
   "pygments_lexer": "ipython3",
   "version": "3.11.5"
  }
 },
 "nbformat": 4,
 "nbformat_minor": 5
}
