{
 "cells": [
  {
   "cell_type": "code",
   "execution_count": 1,
   "id": "6b791cb3",
   "metadata": {},
   "outputs": [],
   "source": [
    "import networkx as nx"
   ]
  },
  {
   "cell_type": "code",
   "execution_count": 4,
   "id": "049b0703",
   "metadata": {},
   "outputs": [],
   "source": [
    "num_agents = 1\n",
    "\n",
    "densities = [i/10 for i in list(range(0,11))]\n",
    "edges = [round(((num_agents*(num_agents-1)) / 2) * dens, 0) for dens in densities]\n",
    "\n",
    "graphs_ = [nx.gnm_random_graph(num_agents, edge) for edge in edges]"
   ]
  },
  {
   "cell_type": "code",
   "execution_count": 6,
   "id": "72ee10c0",
   "metadata": {},
   "outputs": [
    {
     "data": {
      "text/plain": [
       "<networkx.classes.graph.Graph at 0x106737c50>"
      ]
     },
     "execution_count": 6,
     "metadata": {},
     "output_type": "execute_result"
    }
   ],
   "source": [
    "graphs_[0]"
   ]
  }
 ],
 "metadata": {
  "kernelspec": {
   "display_name": "Python 3 (ipykernel)",
   "language": "python",
   "name": "python3"
  },
  "language_info": {
   "codemirror_mode": {
    "name": "ipython",
    "version": 3
   },
   "file_extension": ".py",
   "mimetype": "text/x-python",
   "name": "python",
   "nbconvert_exporter": "python",
   "pygments_lexer": "ipython3",
   "version": "3.11.5"
  }
 },
 "nbformat": 4,
 "nbformat_minor": 5
}
