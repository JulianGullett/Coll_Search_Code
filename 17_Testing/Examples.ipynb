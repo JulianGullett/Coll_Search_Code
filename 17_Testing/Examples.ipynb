{
 "cells": [
  {
   "cell_type": "markdown",
   "id": "7c666538",
   "metadata": {},
   "source": [
    "### Our NK Landscape Generation Package is quite basic for now.  This package MAY be updated or maintained based on future work done by the CSS Lab at NEU's Network Science Institute.  "
   ]
  },
  {
   "cell_type": "code",
   "execution_count": 1,
   "id": "267b72eb",
   "metadata": {},
   "outputs": [],
   "source": [
    "import nklsgen"
   ]
  },
  {
   "cell_type": "code",
   "execution_count": null,
   "id": "7dc07bef",
   "metadata": {},
   "outputs": [],
   "source": []
  }
 ],
 "metadata": {
  "kernelspec": {
   "display_name": "Python 3 (ipykernel)",
   "language": "python",
   "name": "python3"
  },
  "language_info": {
   "codemirror_mode": {
    "name": "ipython",
    "version": 3
   },
   "file_extension": ".py",
   "mimetype": "text/x-python",
   "name": "python",
   "nbconvert_exporter": "python",
   "pygments_lexer": "ipython3",
   "version": "3.11.5"
  }
 },
 "nbformat": 4,
 "nbformat_minor": 5
}
