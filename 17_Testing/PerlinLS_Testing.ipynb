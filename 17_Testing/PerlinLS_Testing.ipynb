{
 "cells": [
  {
   "cell_type": "code",
   "execution_count": 1,
   "id": "d439d1fa",
   "metadata": {},
   "outputs": [],
   "source": [
    "from perlin_ls_gen import *"
   ]
  },
  {
   "cell_type": "code",
   "execution_count": 4,
   "id": "7762f656",
   "metadata": {},
   "outputs": [],
   "source": [
    "width = 75\n",
    "height = 75\n",
    "scale = 5\n",
    "\n",
    "noise = generate_perlin_noise(width, height, scale)\n",
    "\n",
    "# plot_noise(noise, 'Perlin noise example', cmap_given='inferno')"
   ]
  }
 ],
 "metadata": {
  "kernelspec": {
   "display_name": "Python 3 (ipykernel)",
   "language": "python",
   "name": "python3"
  },
  "language_info": {
   "codemirror_mode": {
    "name": "ipython",
    "version": 3
   },
   "file_extension": ".py",
   "mimetype": "text/x-python",
   "name": "python",
   "nbconvert_exporter": "python",
   "pygments_lexer": "ipython3",
   "version": "3.11.5"
  }
 },
 "nbformat": 4,
 "nbformat_minor": 5
}
